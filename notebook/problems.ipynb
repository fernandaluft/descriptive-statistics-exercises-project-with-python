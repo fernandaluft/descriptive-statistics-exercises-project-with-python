{
    "cells": [
        {
            "cell_type": "markdown",
            "id": "ac622319",
            "metadata": {},
            "source": [
                "# Descriptive statistics problems"
            ]
        },
        {
            "cell_type": "markdown",
            "id": "aa8993e4",
            "metadata": {},
            "source": [
                "### Exercise 1"
            ]
        },
        {
            "cell_type": "markdown",
            "id": "5e0ab0d5",
            "metadata": {},
            "source": [
                "We will use Numpy to obtain information to describe statistically.\n",
                "\n",
                "- Generate an array of 100 elements following a normal distribution.\n",
                "- Generate an array of 100 elements following a chi-square distribution with 3 degrees of freedom.\n",
                "- Calculate the main metrics and statistical measures that best describe the two vectors."
            ]
        },
        {
            "cell_type": "code",
            "execution_count": 18,
            "id": "34720ab6",
            "metadata": {},
            "outputs": [],
            "source": [
                "import numpy as np"
            ]
        },
        {
            "cell_type": "code",
            "execution_count": 19,
            "id": "4940d7b0",
            "metadata": {},
            "outputs": [],
            "source": [
                "a = np.random.normal(0, 0.1, 100)\n",
                "b = np.random.chisquare(3,100)\n",
                "#print(a)\n",
                "#print(b)"
            ]
        },
        {
            "cell_type": "code",
            "execution_count": 20,
            "id": "1ed11a39",
            "metadata": {},
            "outputs": [
                {
                    "name": "stdout",
                    "output_type": "stream",
                    "text": [
                        "Mean a: -0.01\n",
                        "Mean b: 3.11\n"
                    ]
                }
            ],
            "source": [
                "a_mean = np.mean(a)\n",
                "b_mean = np.mean(b)\n",
                "print(f\"Mean a: {a_mean:.2f}\\nMean b: {b_mean:.2f}\")"
            ]
        },
        {
            "cell_type": "code",
            "execution_count": 21,
            "id": "ca0b07da",
            "metadata": {},
            "outputs": [
                {
                    "name": "stdout",
                    "output_type": "stream",
                    "text": [
                        "Median a: -0.005464207298372293\n",
                        "Median b: 2.5769128085611452\n"
                    ]
                }
            ],
            "source": [
                "a_median = np.median(a)\n",
                "b_median = np.median(b)\n",
                "print(f\"Median a: {a_median}\\nMedian b: {b_median}\")"
            ]
        },
        {
            "cell_type": "code",
            "execution_count": 22,
            "id": "14185fe6",
            "metadata": {},
            "outputs": [],
            "source": [
                "def mode(array):\n",
                "    numbers = {}\n",
                "    for i in array:\n",
                "        if i in numbers:\n",
                "            numbers[i] += 1\n",
                "        else:\n",
                "            numbers[i] = 1\n",
                "    \n",
                "    for key, value in numbers.items():\n",
                "        if value == max(numbers.values()):\n",
                "            mode = key\n",
                "        \n",
                "    return mode"
            ]
        },
        {
            "cell_type": "code",
            "execution_count": 23,
            "id": "e14bf41f",
            "metadata": {},
            "outputs": [
                {
                    "name": "stdout",
                    "output_type": "stream",
                    "text": [
                        "Mode a: 0.0002324792678114484\n",
                        "Mode b: 2.61290608194108\n"
                    ]
                }
            ],
            "source": [
                "a_mode = mode(a)\n",
                "b_mode = mode(b)\n",
                "print(f\"Mode a: {a_mode}\\nMode b: {b_mode}\")"
            ]
        },
        {
            "cell_type": "code",
            "execution_count": 24,
            "id": "d11b8892",
            "metadata": {},
            "outputs": [
                {
                    "name": "stdout",
                    "output_type": "stream",
                    "text": [
                        "Range a: 0.5918791144605955\n",
                        "Range b: 13.253690662543214\n"
                    ]
                }
            ],
            "source": [
                "a_range = max(a) - min(a)\n",
                "b_range = max(b) - min(b)\n",
                "print(f\"Range a: {a_range}\\nRange b: {b_range}\")"
            ]
        },
        {
            "cell_type": "code",
            "execution_count": 25,
            "id": "5c21530e",
            "metadata": {},
            "outputs": [
                {
                    "name": "stdout",
                    "output_type": "stream",
                    "text": [
                        "Variance a: 0.01\n",
                        "Variance b: 6.93\n"
                    ]
                }
            ],
            "source": [
                "a_var = np.var(a)\n",
                "b_var = np.var(b)\n",
                "print(f\"Variance a: {a_var:.2f}\\nVariance b: {b_var:.2f}\")"
            ]
        },
        {
            "cell_type": "code",
            "execution_count": 26,
            "id": "b53357f7",
            "metadata": {},
            "outputs": [
                {
                    "name": "stdout",
                    "output_type": "stream",
                    "text": [
                        "Standard Deviation a: 0.10\n",
                        "Standard Deviation b: 2.63\n"
                    ]
                }
            ],
            "source": [
                "a_std = np.std(a)\n",
                "b_std = np.std(b)\n",
                "print(f\"Standard Deviation a: {a_std:.2f}\\nStandard Deviation b: {b_std:.2f}\")"
            ]
        },
        {
            "cell_type": "code",
            "execution_count": 27,
            "id": "dce3fb66",
            "metadata": {},
            "outputs": [],
            "source": [
                "from scipy.stats import skew"
            ]
        },
        {
            "cell_type": "code",
            "execution_count": 28,
            "id": "56f75fca",
            "metadata": {},
            "outputs": [
                {
                    "name": "stdout",
                    "output_type": "stream",
                    "text": [
                        "Skewness a: -0.04\n",
                        "Skewness b: 1.63\n"
                    ]
                }
            ],
            "source": [
                "a_skew = skew(a)\n",
                "b_skew = skew(b)\n",
                "\n",
                "print(f\"Skewness a: {a_skew:.2f}\\nSkewness b: {b_skew:.2f}\")"
            ]
        },
        {
            "cell_type": "code",
            "execution_count": 32,
            "id": "0592ce8b",
            "metadata": {},
            "outputs": [],
            "source": [
                "from scipy.stats import kurtosis"
            ]
        },
        {
            "cell_type": "code",
            "execution_count": 34,
            "id": "476717d0",
            "metadata": {},
            "outputs": [
                {
                    "name": "stdout",
                    "output_type": "stream",
                    "text": [
                        "Kurtosis a: 1.02\n",
                        "Kurtosis b: 2.98\n"
                    ]
                }
            ],
            "source": [
                "a_kurt = kurtosis(a)\n",
                "b_kurt = kurtosis(b)\n",
                "print(f\"Kurtosis a: {a_kurt:.2f}\\nKurtosis b: {b_kurt:.2f}\")"
            ]
        },
        {
            "cell_type": "markdown",
            "id": "46c70c3d",
            "metadata": {},
            "source": [
                "### Exercise 2\n",
                "\n",
                "Write a Python program to calculate the standard deviation of the following data:\n",
                "\n",
                "```py\n",
                "data = [4, 2, 5, 8, 6]\n",
                "```"
            ]
        },
        {
            "cell_type": "code",
            "execution_count": 29,
            "id": "d590308e",
            "metadata": {},
            "outputs": [
                {
                    "name": "stdout",
                    "output_type": "stream",
                    "text": [
                        "Standard deviation with Python function: 2.0\n",
                        "Standard deviation with Numpy: 2.0\n"
                    ]
                }
            ],
            "source": [
                "# TODO\n",
                "data = [4,2,5,8,6]\n",
                "\n",
                "def std(array):\n",
                "\n",
                "    size = len(array)\n",
                "    average = sum([float(i) for i in array]) / size\n",
                "\n",
                "    first = sum([((float(i) - average) ** 2) for i in array ])/ size\n",
                "    std = first ** 0.5\n",
                "    return std\n",
                "\n",
                "print(f\"Standard deviation with Python function: {std(data)}\")\n",
                "nup = np.asarray(data)\n",
                "print(f\"Standard deviation with Numpy: {np.std(nup)}\")"
            ]
        }
    ],
    "metadata": {
        "interpreter": {
            "hash": "9248718ffe6ce6938b217e69dbcc175ea21f4c6b28a317e96c05334edae734bb"
        },
        "kernelspec": {
            "display_name": "Python 3.9.12 ('ML-BOOTCAMP')",
            "language": "python",
            "name": "python3"
        },
        "language_info": {
            "codemirror_mode": {
                "name": "ipython",
                "version": 3
            },
            "file_extension": ".py",
            "mimetype": "text/x-python",
            "name": "python",
            "nbconvert_exporter": "python",
            "pygments_lexer": "ipython3",
            "version": "3.11.4"
        }
    },
    "nbformat": 4,
    "nbformat_minor": 5
}
